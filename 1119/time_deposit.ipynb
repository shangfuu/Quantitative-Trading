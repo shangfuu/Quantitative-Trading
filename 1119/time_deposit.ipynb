{
 "metadata": {
  "orig_nbformat": 2,
  "kernelspec": {
   "name": "python3",
   "display_name": "Python 3"
  }
 },
 "nbformat": 4,
 "nbformat_minor": 2,
 "cells": [
  {
   "cell_type": "code",
   "execution_count": 104,
   "metadata": {},
   "outputs": [
    {
     "output_type": "stream",
     "name": "stdout",
     "text": [
      "D:\\7.pythoncode\\Quantitative-Trading\\1119\n"
     ]
    }
   ],
   "source": [
    "cd D:\\7.pythoncode\\Quantitative-Trading\\1119"
   ]
  },
  {
   "source": [
    "# 單筆股票作活儲 \n",
    "\n",
    "+ 利率 0.1%\n",
    "+ 大於小於 300 日買賣\n",
    "+ 如果沒持有股 & 無法進行買賣 = 丟入存款"
   ],
   "cell_type": "markdown",
   "metadata": {}
  },
  {
   "cell_type": "code",
   "execution_count": 105,
   "metadata": {},
   "outputs": [],
   "source": [
    "import numpy as np\n",
    "import pandas as pd\n",
    "import matplotlib.pyplot as plt\n",
    "\n",
    "%matplotlib inline"
   ]
  },
  {
   "cell_type": "code",
   "execution_count": 106,
   "metadata": {},
   "outputs": [],
   "source": [
    "# import other ipynb\n",
    "import import_ipynb\n",
    "from figure import show_bollinger, bollinger_bands, funding_changes, show_returns, draw_bubble_WL, draw_2D_WL, draw_PL_BEP_Figure\n",
    "from transaction import *\n",
    "from profit_loss import profit_loss_analysis\n",
    "from helper_func import *"
   ]
  },
  {
   "cell_type": "code",
   "execution_count": 107,
   "metadata": {},
   "outputs": [
    {
     "output_type": "execute_result",
     "data": {
      "text/plain": [
       "                 open       high        low      close   adjclose    volume  \\\n",
       "2017-10-02  47.980701  48.279301  47.980701  48.080200  42.198639   6232015   \n",
       "2017-10-03  48.030499  48.378899  47.831402  48.130001  42.242348  12655478   \n",
       "2017-10-05  48.080200  48.378899  47.980701  48.329102  42.417095   6081554   \n",
       "2017-10-06  48.329102  48.577900  48.279301  48.478401  42.548130   7770016   \n",
       "2017-10-11  48.926399  49.075699  48.876598  48.976101  42.984947  20468960   \n",
       "...               ...        ...        ...        ...        ...       ...   \n",
       "2020-09-24  38.799999  38.799999  38.000000  38.000000  38.000000  26794853   \n",
       "2020-09-25  38.049999  38.349998  38.000000  38.099998  38.099998  12900119   \n",
       "2020-09-28  38.200001  38.549999  38.200001  38.549999  38.549999   8827394   \n",
       "2020-09-29  38.650002  38.799999  38.599998  38.700001  38.700001   7720480   \n",
       "2020-09-30  38.849998  38.900002  38.599998  38.599998  38.599998   9070874   \n",
       "\n",
       "             ticker   middle       std      lower      upper         B  \\\n",
       "2017-10-02  2882.TW      NaN       NaN        NaN        NaN       NaN   \n",
       "2017-10-03  2882.TW      NaN       NaN        NaN        NaN       NaN   \n",
       "2017-10-05  2882.TW      NaN       NaN        NaN        NaN       NaN   \n",
       "2017-10-06  2882.TW      NaN       NaN        NaN        NaN       NaN   \n",
       "2017-10-11  2882.TW      NaN       NaN        NaN        NaN       NaN   \n",
       "...             ...      ...       ...        ...        ...       ...   \n",
       "2020-09-24  2882.TW  39.5575  0.507905  38.541691  40.573309 -0.266630   \n",
       "2020-09-25  2882.TW  39.4650  0.593850  38.277299  40.652700 -0.074640   \n",
       "2020-09-28  2882.TW  39.4000  0.620060  38.159881  40.640119  0.157291   \n",
       "2020-09-29  2882.TW  39.3425  0.629385  38.083730  40.601269  0.244791   \n",
       "2020-09-30  2882.TW  39.2950  0.648460  37.998080  40.591919  0.232057   \n",
       "\n",
       "             returns  \n",
       "2017-10-02       NaN  \n",
       "2017-10-03  0.001036  \n",
       "2017-10-05  0.004137  \n",
       "2017-10-06  0.003089  \n",
       "2017-10-11  0.010266  \n",
       "...              ...  \n",
       "2020-09-24 -0.025641  \n",
       "2020-09-25  0.002632  \n",
       "2020-09-28  0.011811  \n",
       "2020-09-29  0.003891  \n",
       "2020-09-30 -0.002584  \n",
       "\n",
       "[730 rows x 13 columns]"
      ],
      "text/html": "<div>\n<style scoped>\n    .dataframe tbody tr th:only-of-type {\n        vertical-align: middle;\n    }\n\n    .dataframe tbody tr th {\n        vertical-align: top;\n    }\n\n    .dataframe thead th {\n        text-align: right;\n    }\n</style>\n<table border=\"1\" class=\"dataframe\">\n  <thead>\n    <tr style=\"text-align: right;\">\n      <th></th>\n      <th>open</th>\n      <th>high</th>\n      <th>low</th>\n      <th>close</th>\n      <th>adjclose</th>\n      <th>volume</th>\n      <th>ticker</th>\n      <th>middle</th>\n      <th>std</th>\n      <th>lower</th>\n      <th>upper</th>\n      <th>B</th>\n      <th>returns</th>\n    </tr>\n  </thead>\n  <tbody>\n    <tr>\n      <th>2017-10-02</th>\n      <td>47.980701</td>\n      <td>48.279301</td>\n      <td>47.980701</td>\n      <td>48.080200</td>\n      <td>42.198639</td>\n      <td>6232015</td>\n      <td>2882.TW</td>\n      <td>NaN</td>\n      <td>NaN</td>\n      <td>NaN</td>\n      <td>NaN</td>\n      <td>NaN</td>\n      <td>NaN</td>\n    </tr>\n    <tr>\n      <th>2017-10-03</th>\n      <td>48.030499</td>\n      <td>48.378899</td>\n      <td>47.831402</td>\n      <td>48.130001</td>\n      <td>42.242348</td>\n      <td>12655478</td>\n      <td>2882.TW</td>\n      <td>NaN</td>\n      <td>NaN</td>\n      <td>NaN</td>\n      <td>NaN</td>\n      <td>NaN</td>\n      <td>0.001036</td>\n    </tr>\n    <tr>\n      <th>2017-10-05</th>\n      <td>48.080200</td>\n      <td>48.378899</td>\n      <td>47.980701</td>\n      <td>48.329102</td>\n      <td>42.417095</td>\n      <td>6081554</td>\n      <td>2882.TW</td>\n      <td>NaN</td>\n      <td>NaN</td>\n      <td>NaN</td>\n      <td>NaN</td>\n      <td>NaN</td>\n      <td>0.004137</td>\n    </tr>\n    <tr>\n      <th>2017-10-06</th>\n      <td>48.329102</td>\n      <td>48.577900</td>\n      <td>48.279301</td>\n      <td>48.478401</td>\n      <td>42.548130</td>\n      <td>7770016</td>\n      <td>2882.TW</td>\n      <td>NaN</td>\n      <td>NaN</td>\n      <td>NaN</td>\n      <td>NaN</td>\n      <td>NaN</td>\n      <td>0.003089</td>\n    </tr>\n    <tr>\n      <th>2017-10-11</th>\n      <td>48.926399</td>\n      <td>49.075699</td>\n      <td>48.876598</td>\n      <td>48.976101</td>\n      <td>42.984947</td>\n      <td>20468960</td>\n      <td>2882.TW</td>\n      <td>NaN</td>\n      <td>NaN</td>\n      <td>NaN</td>\n      <td>NaN</td>\n      <td>NaN</td>\n      <td>0.010266</td>\n    </tr>\n    <tr>\n      <th>...</th>\n      <td>...</td>\n      <td>...</td>\n      <td>...</td>\n      <td>...</td>\n      <td>...</td>\n      <td>...</td>\n      <td>...</td>\n      <td>...</td>\n      <td>...</td>\n      <td>...</td>\n      <td>...</td>\n      <td>...</td>\n      <td>...</td>\n    </tr>\n    <tr>\n      <th>2020-09-24</th>\n      <td>38.799999</td>\n      <td>38.799999</td>\n      <td>38.000000</td>\n      <td>38.000000</td>\n      <td>38.000000</td>\n      <td>26794853</td>\n      <td>2882.TW</td>\n      <td>39.5575</td>\n      <td>0.507905</td>\n      <td>38.541691</td>\n      <td>40.573309</td>\n      <td>-0.266630</td>\n      <td>-0.025641</td>\n    </tr>\n    <tr>\n      <th>2020-09-25</th>\n      <td>38.049999</td>\n      <td>38.349998</td>\n      <td>38.000000</td>\n      <td>38.099998</td>\n      <td>38.099998</td>\n      <td>12900119</td>\n      <td>2882.TW</td>\n      <td>39.4650</td>\n      <td>0.593850</td>\n      <td>38.277299</td>\n      <td>40.652700</td>\n      <td>-0.074640</td>\n      <td>0.002632</td>\n    </tr>\n    <tr>\n      <th>2020-09-28</th>\n      <td>38.200001</td>\n      <td>38.549999</td>\n      <td>38.200001</td>\n      <td>38.549999</td>\n      <td>38.549999</td>\n      <td>8827394</td>\n      <td>2882.TW</td>\n      <td>39.4000</td>\n      <td>0.620060</td>\n      <td>38.159881</td>\n      <td>40.640119</td>\n      <td>0.157291</td>\n      <td>0.011811</td>\n    </tr>\n    <tr>\n      <th>2020-09-29</th>\n      <td>38.650002</td>\n      <td>38.799999</td>\n      <td>38.599998</td>\n      <td>38.700001</td>\n      <td>38.700001</td>\n      <td>7720480</td>\n      <td>2882.TW</td>\n      <td>39.3425</td>\n      <td>0.629385</td>\n      <td>38.083730</td>\n      <td>40.601269</td>\n      <td>0.244791</td>\n      <td>0.003891</td>\n    </tr>\n    <tr>\n      <th>2020-09-30</th>\n      <td>38.849998</td>\n      <td>38.900002</td>\n      <td>38.599998</td>\n      <td>38.599998</td>\n      <td>38.599998</td>\n      <td>9070874</td>\n      <td>2882.TW</td>\n      <td>39.2950</td>\n      <td>0.648460</td>\n      <td>37.998080</td>\n      <td>40.591919</td>\n      <td>0.232057</td>\n      <td>-0.002584</td>\n    </tr>\n  </tbody>\n</table>\n<p>730 rows × 13 columns</p>\n</div>"
     },
     "metadata": {},
     "execution_count": 107
    }
   ],
   "source": [
    "get_one_stock('2882.TW')"
   ]
  },
  {
   "cell_type": "code",
   "execution_count": 108,
   "metadata": {},
   "outputs": [
    {
     "output_type": "stream",
     "name": "stdout",
     "text": [
      "{'shares': 0.0, 'cost': 0.0, 'buy_times': 0.0, 'earn': 0.0, 'sell_times': 0.0, 'capital': 1000000, 'per_trans': 1000, 'init_capital': 1000000, 'deposit': 0, 'savings_month': 0} {'handling_fee': 0.001425, 'trans_tax': 0.003, 'slippage': 1}\n"
     ]
    }
   ],
   "source": [
    "stock_data = get_one_stock('2882.TW' ,days=300,start_date='10/01/2010', end_date='10/01/2020')\n",
    "account = init_account()\n",
    "account['capital'] = 1000000\n",
    "account['init_capital'] = account['capital']\n",
    "account['deposit'] = 0 # 多少錢放在定存\n",
    "account['savings_month'] = 0 # 存了多少個月\n",
    "rate = init_rate()\n",
    "print(account  ,   rate)\n"
   ]
  },
  {
   "cell_type": "code",
   "execution_count": 109,
   "metadata": {},
   "outputs": [],
   "source": [
    "# 把存款拿出來\n",
    "def draw_deposit(account):\n",
    "    if account['savings_month'] > 0: # 假設有存銀行\n",
    "        account['capital'] =  account['capital'] + account['deposit'] + account['deposit']*(0.001)*account['savings_month']/12 \n",
    "        print( 'get ' , account['deposit'] + account['deposit']*(0.001)*account['savings_month']/12 )\n",
    "        account['deposit'] = 0\n",
    "        account['savings_month'] = 0\n",
    "    return account\n",
    "\n",
    "# 更新存款\n",
    "def update_deposit(account):\n",
    "    # 首存\n",
    "    if account['deposit'] == 0:\n",
    "        account['deposit'] =  account['capital']\n",
    "        account['captial'] = 0\n",
    "        account['savings_month'] = 0   \n",
    "    else:\n",
    "        account['savings_month'] +=  1   \n",
    "    return account\n",
    "\n",
    "# 看活存現金 + 手頭現金能不能買\n",
    "def can_buy(account , price , rate):\n",
    "    actuall_price = account['per_trans'] * (price + rate['slippage'])\n",
    "    actuall_price += actuall_price * rate['handling_fee']\n",
    "    if account['capital'] + account['deposit'] +  \\\n",
    "        account['deposit']*(0.001)*account['savings_month']/12 > actuall_price:\n",
    "        return True\n",
    "    else:\n",
    "        return False\n",
    "\n",
    "# all in \n",
    "def all_buy(account, price, rate):\n",
    "    \n",
    "    actuall_price = account['per_trans'] * (price + rate['slippage'])\n",
    "    actuall_price += actuall_price * rate['handling_fee']\n",
    "    buy_count = 0\n",
    "    while account['capital'] > actuall_price:\n",
    "        buy_count += 1\n",
    "        account['cost'] += actuall_price \n",
    "        account['shares'] += account['per_trans']\n",
    "        account['capital'] -= actuall_price\n",
    "\n",
    "    account['buy_times'] += 1\n",
    "\n",
    "    return account, actuall_price*buy_count\n"
   ]
  },
  {
   "cell_type": "code",
   "execution_count": 110,
   "metadata": {},
   "outputs": [
    {
     "output_type": "execute_result",
     "data": {
      "text/plain": [
       "2459"
      ]
     },
     "metadata": {},
     "execution_count": 110
    }
   ],
   "source": [
    "len(stock_data)"
   ]
  },
  {
   "cell_type": "code",
   "execution_count": 111,
   "metadata": {},
   "outputs": [
    {
     "output_type": "stream",
     "name": "stdout",
     "text": [
      "first save\n",
      "gain\n",
      "gain\n",
      "gain\n",
      "gain\n",
      "gain\n",
      "gain\n",
      "get  1000500.0\n",
      "gain\n",
      "gain\n",
      "gain\n",
      "gain\n",
      "gain\n",
      "gain\n",
      "gain\n",
      "gain\n",
      "gain\n",
      "gain\n",
      "gain\n",
      "gain\n",
      "gain\n",
      "gain\n",
      "gain\n",
      "gain\n",
      "gain\n",
      "gain\n",
      "first save\n",
      "gain\n",
      "gain\n",
      "gain\n",
      "gain\n",
      "gain\n",
      "gain\n",
      "gain\n",
      "gain\n",
      "gain\n",
      "gain\n",
      "gain\n",
      "gain\n",
      "gain\n",
      "gain\n",
      "gain\n",
      "gain\n",
      "gain\n",
      "gain\n",
      "gain\n",
      "gain\n",
      "get  1671434.507128343\n",
      "first save\n",
      "gain\n",
      "gain\n",
      "gain\n",
      "gain\n",
      "gain\n",
      "gain\n",
      "gain\n",
      "gain\n",
      "get  1552195.1958651056\n",
      "first save\n",
      "gain\n"
     ]
    }
   ],
   "source": [
    "records = []\n",
    "for day in range( 300,len(stock_data)):\n",
    "    date = stock_data.index.date[day]\n",
    "    if check_if_last_day_of_month(date):\n",
    "        # 判斷信號\n",
    "        if   stock_data.close[day] > stock_data.middle[day]:\n",
    "            sign = 'BUY'\n",
    "        elif  stock_data.close[day] < stock_data.middle[day]:\n",
    "            sign = 'SELL'\n",
    "\n",
    "        # 做動作\n",
    "       \n",
    "        _capital = account['capital']\n",
    "        if sign == 'BUY' and account['shares'] == 0 and can_buy( account , stock_data.close[day] , rate ):\n",
    "            #print(sign)\n",
    "            #print(f'pre {_capital}')\n",
    "            account = draw_deposit(account)\n",
    "            _capital = account['capital']\n",
    "            #print(f'after {_capital}')\n",
    "            account , actuall_price = all_buy( account  ,stock_data.close[day] ,rate )\n",
    "            records.append( [ date , sign , _capital , account['capital'] , account['shares'] ,stock_data.close[day] , actuall_price ])\n",
    "            \n",
    "        elif sign == 'SELL' and account['shares'] > 0:\n",
    "            #print(sign)\n",
    "            account , actuall_price = sell( account , stock_data.close[day] ,rate )\n",
    "            records.append( [ date , sign , _capital , account['capital'] , account['shares'] ,stock_data.close[day] , actuall_price ])\n",
    "            \n",
    "        else :\n",
    "            if account['deposit'] == 0 and account['shares']==0 :\n",
    "                \n",
    "                #print(f'first save')\n",
    "                account['deposit'] =  account['capital']\n",
    "                account['capital'] = 0\n",
    "               \n",
    "                account['savings_month'] = 0   \n",
    "            else :\n",
    "                #print('gain')\n",
    "                account['savings_month'] +=  1   \n",
    "    \n",
    "            #account = update_deposit(account)\n",
    "        #print(account)\n",
    "# 最後賣了\n",
    "if account['shares'] != 0: \n",
    "    account,actuall_price = sell( account , stock_data.close[day] ,rate )\n",
    "    records.append( [ date , sign , _capital , account['capital'] , account['shares'] ,stock_data.close[day] , actuall_price ])   \n",
    "        "
   ]
  },
  {
   "cell_type": "code",
   "execution_count": 112,
   "metadata": {},
   "outputs": [
    {
     "output_type": "execute_result",
     "data": {
      "text/plain": [
       "{'shares': 0,\n",
       " 'cost': 4194836.264030119,\n",
       " 'buy_times': 3.0,\n",
       " 'earn': 4653056.727133864,\n",
       " 'sell_times': 3.0,\n",
       " 'capital': 0,\n",
       " 'per_trans': 1000,\n",
       " 'init_capital': 1000000,\n",
       " 'deposit': 1462535.659526221,\n",
       " 'savings_month': 1}"
      ]
     },
     "metadata": {},
     "execution_count": 112
    }
   ],
   "source": [
    "account"
   ]
  },
  {
   "cell_type": "code",
   "execution_count": 113,
   "metadata": {},
   "outputs": [],
   "source": [
    "trans = pd.DataFrame( records , columns=['日期', '動作', '交易前總資金' ,'交易後總資金', '持有股', '交易每股金額', '實際買賣金額'] ).round(2)"
   ]
  },
  {
   "cell_type": "code",
   "execution_count": 114,
   "metadata": {},
   "outputs": [
    {
     "output_type": "execute_result",
     "data": {
      "text/plain": [
       "           日期    動作      交易前總資金      交易後總資金      持有股  交易每股金額      實際買賣金額\n",
       "0  2012-11-30   BUY  1000500.00     7000.75  35000.0   27.35   993499.25\n",
       "1  2015-08-31  SELL     7000.75  1668653.42      0.0   46.69  1661652.66\n",
       "2  2018-08-31   BUY  1671434.51    14895.64  31000.0   52.36  1656538.87\n",
       "3  2018-10-31  SELL    14895.64  1551161.09      0.0   48.78  1536265.45\n",
       "4  2020-06-30   BUY  1552195.20     7397.05  36000.0   41.85  1544798.15\n",
       "5  2020-07-31  SELL     7397.05  1462535.66      0.0   39.60  1455138.61"
      ],
      "text/html": "<div>\n<style scoped>\n    .dataframe tbody tr th:only-of-type {\n        vertical-align: middle;\n    }\n\n    .dataframe tbody tr th {\n        vertical-align: top;\n    }\n\n    .dataframe thead th {\n        text-align: right;\n    }\n</style>\n<table border=\"1\" class=\"dataframe\">\n  <thead>\n    <tr style=\"text-align: right;\">\n      <th></th>\n      <th>日期</th>\n      <th>動作</th>\n      <th>交易前總資金</th>\n      <th>交易後總資金</th>\n      <th>持有股</th>\n      <th>交易每股金額</th>\n      <th>實際買賣金額</th>\n    </tr>\n  </thead>\n  <tbody>\n    <tr>\n      <th>0</th>\n      <td>2012-11-30</td>\n      <td>BUY</td>\n      <td>1000500.00</td>\n      <td>7000.75</td>\n      <td>35000.0</td>\n      <td>27.35</td>\n      <td>993499.25</td>\n    </tr>\n    <tr>\n      <th>1</th>\n      <td>2015-08-31</td>\n      <td>SELL</td>\n      <td>7000.75</td>\n      <td>1668653.42</td>\n      <td>0.0</td>\n      <td>46.69</td>\n      <td>1661652.66</td>\n    </tr>\n    <tr>\n      <th>2</th>\n      <td>2018-08-31</td>\n      <td>BUY</td>\n      <td>1671434.51</td>\n      <td>14895.64</td>\n      <td>31000.0</td>\n      <td>52.36</td>\n      <td>1656538.87</td>\n    </tr>\n    <tr>\n      <th>3</th>\n      <td>2018-10-31</td>\n      <td>SELL</td>\n      <td>14895.64</td>\n      <td>1551161.09</td>\n      <td>0.0</td>\n      <td>48.78</td>\n      <td>1536265.45</td>\n    </tr>\n    <tr>\n      <th>4</th>\n      <td>2020-06-30</td>\n      <td>BUY</td>\n      <td>1552195.20</td>\n      <td>7397.05</td>\n      <td>36000.0</td>\n      <td>41.85</td>\n      <td>1544798.15</td>\n    </tr>\n    <tr>\n      <th>5</th>\n      <td>2020-07-31</td>\n      <td>SELL</td>\n      <td>7397.05</td>\n      <td>1462535.66</td>\n      <td>0.0</td>\n      <td>39.60</td>\n      <td>1455138.61</td>\n    </tr>\n  </tbody>\n</table>\n</div>"
     },
     "metadata": {},
     "execution_count": 114
    }
   ],
   "source": [
    "trans.head(50)"
   ]
  }
 ]
}