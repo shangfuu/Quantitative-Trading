{
 "cells": [
  {
   "cell_type": "markdown",
   "metadata": {},
   "source": [
    "# Profit loss module\n",
    "計算盈虧比"
   ]
  },
  {
   "cell_type": "code",
   "execution_count": 3,
   "metadata": {},
   "outputs": [],
   "source": [
    "import import_ipynb"
   ]
  },
  {
   "cell_type": "code",
   "execution_count": null,
   "metadata": {},
   "outputs": [],
   "source": [
    "def profit_loss_analysis(df_rec, print_info=False):\n",
    "\n",
    "    list_buy = (df_rec[df_rec['動作'] == 'BUY']['實際買賣金額'])\n",
    "    list_sell = (df_rec[df_rec['動作'] == 'SELL']['實際買賣金額'])\n",
    "    \n",
    "    list_buy = list(list_buy)\n",
    "    list_sell = list(list_sell)\n",
    "    \n",
    "    total_win = 0.0\n",
    "    total_loss = 0.0\n",
    "    win_times = 0\n",
    "    loss_times = 0\n",
    "\n",
    "    for i in range(len(list_sell)):\n",
    "        gain = list_sell[i] - list_buy[i]\n",
    "        if gain > 0:\n",
    "            total_win += gain\n",
    "            win_times += 1\n",
    "        elif gain <= 0:\n",
    "            total_loss += gain\n",
    "            loss_times += 1\n",
    "\n",
    "    win_rate = win_times / (win_times + loss_times)\n",
    "#     PL_ratio = abs((total_win) / (total_loss))\n",
    "    PL_ratio = abs( (total_win/ win_times )  / (total_loss/loss_times) )\n",
    "    BEP_pw = 1 / (PL_ratio + 1)\n",
    "    \n",
    "    if print_info:\n",
    "        print('-------------------------\\n')\n",
    "        print('total win: ' + str(total_win) + ' （盈利金額）')\n",
    "        print('total loss: '+ str(total_loss) + ' （虧損金額）')\n",
    "        print('\\n-------------------------\\n')\n",
    "        print('win times: ', win_times)\n",
    "        print('loss times: ', loss_times)\n",
    "        print('win rate: ' + str(win_rate * 100)[:5] + '%')\n",
    "        print('\\n-------------------------\\n')\n",
    "        print('profit loss ratio: ' + str(PL_ratio)[:5] + '% ' + ' （ |average win / average loss| 即盈虧比 ）')\n",
    "        print('\\nexpected value: ' + str(PL_ratio * win_rate - (1 - win_rate)) + ' （ 期望值 ＝（盈虧比 x 勝率）–（1 - 勝率））')\n",
    "        print('\\n-------------------------')\n",
    "    \n",
    "    return PL_ratio, win_rate, BEP_pw"
   ]
  },
  {
   "cell_type": "code",
   "execution_count": null,
   "metadata": {},
   "outputs": [],
   "source": []
  }
 ],
 "metadata": {
  "kernelspec": {
   "display_name": "QT",
   "language": "python",
   "name": "qt"
  },
  "language_info": {
   "codemirror_mode": {
    "name": "ipython",
    "version": 3
   },
   "file_extension": ".py",
   "mimetype": "text/x-python",
   "name": "python",
   "nbconvert_exporter": "python",
   "pygments_lexer": "ipython3",
   "version": "3.8.6"
  }
 },
 "nbformat": 4,
 "nbformat_minor": 4
}
