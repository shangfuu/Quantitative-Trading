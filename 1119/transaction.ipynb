{
 "cells": [
  {
   "cell_type": "markdown",
   "metadata": {},
   "source": [
    "# Transaction module\n",
    "進行交易"
   ]
  },
  {
   "cell_type": "code",
   "execution_count": 10,
   "metadata": {},
   "outputs": [],
   "source": [
    "import numpy as np \n",
    "import pandas as pd\n",
    "from helper_func import init_account, init_rate, get_one_stock\n",
    "from profit_loss import profit_loss_analysis"
   ]
  },
  {
   "cell_type": "markdown",
   "metadata": {},
   "source": [
    "## Initial Transaction info"
   ]
  },
  {
   "cell_type": "code",
   "execution_count": null,
   "metadata": {},
   "outputs": [],
   "source": [
    "# def init_account(shares=0.0, cost=0.0, buy_times=0.0, earn=0.0,sell_times=0.0, capital=300000,per_trans=1000):\n",
    "#     account = {\n",
    "#         'shares': shares,     # 有幾股\n",
    "#         'cost': cost,\n",
    "#         'buy_times': buy_times,\n",
    "#         'earn': earn,\n",
    "#         'sell_times': sell_times,\n",
    "#         'capital': capital,  # 資金\n",
    "#         'per_trans': per_trans,   # 一次買一張\n",
    "#         'init_capital': capital,  # 紀錄初始資金\n",
    "#     }\n",
    "#     return account"
   ]
  },
  {
   "cell_type": "code",
   "execution_count": null,
   "metadata": {},
   "outputs": [],
   "source": [
    "def init_transc(strategy = 1):\n",
    "    info = None\n",
    "    if strategy == 1:\n",
    "        info = {\n",
    "            'close': 0,\n",
    "            'pre_close': 0,\n",
    "            'mean': 0,\n",
    "            'stop_profit': 0,\n",
    "            'stop_loss': 0,\n",
    "            'have_day' : 0\n",
    "        }\n",
    "    return info"
   ]
  },
  {
   "cell_type": "markdown",
   "metadata": {},
   "source": [
    "## Transaction Buy & Sell"
   ]
  },
  {
   "cell_type": "code",
   "execution_count": null,
   "metadata": {},
   "outputs": [],
   "source": [
    "def buy(investor, price, rate):\n",
    "    b_price = investor['per_trans'] * (price + rate['slippage'])\n",
    "    b_price += b_price * rate['handling_fee']\n",
    "    investor['cost'] += b_price\n",
    "    investor['buy_times'] += 1\n",
    "    investor['shares'] += investor['per_trans']\n",
    "    investor['capital'] -= b_price\n",
    "    return investor, b_price"
   ]
  },
  {
   "cell_type": "code",
   "execution_count": null,
   "metadata": {},
   "outputs": [],
   "source": [
    "def sell(investor, price, rate):\n",
    "    b_price = investor['shares'] * (price + rate['slippage'])\n",
    "    b_price *= (1 - rate['handling_fee'])\n",
    "    b_price *= (1 - rate['trans_tax'])\n",
    "    investor['earn'] += b_price\n",
    "    investor['sell_times'] += 1\n",
    "    investor['shares'] = 0\n",
    "    investor['capital'] += b_price\n",
    "    return investor, b_price"
   ]
  },
  {
   "cell_type": "markdown",
   "metadata": {},
   "source": [
    "## Stop Loss & Stop Profit"
   ]
  },
  {
   "cell_type": "code",
   "execution_count": null,
   "metadata": {},
   "outputs": [],
   "source": [
    "# 更新停損停利點\n",
    "def update_info(info, company, day, investor):\n",
    "    \n",
    "    info['close'] = company['close'][day]\n",
    "    info['mean'] = company['middle'][day]\n",
    "    \n",
    "    if investor['shares'] == 0:\n",
    "        info['have_day'] = 0\n",
    "    else:\n",
    "        info['have_day'] += 1\n",
    "    return info"
   ]
  },
  {
   "cell_type": "code",
   "execution_count": null,
   "metadata": {},
   "outputs": [],
   "source": [
    "def update_stop_point(info, raise_rate, drop_rate):\n",
    "    info['stop_profit'] = info['close'] * (1 + raise_rate)\n",
    "    info['stop_loss'] = info['close'] * (1 - drop_rate)\n",
    "    return info"
   ]
  },
  {
   "cell_type": "markdown",
   "metadata": {},
   "source": [
    "## Trade Strategy"
   ]
  },
  {
   "cell_type": "code",
   "execution_count": null,
   "metadata": {},
   "outputs": [],
   "source": [
    "def simple_strategy(info, expiry_period = 60):\n",
    "    \n",
    "    if info['close'] > info['mean'] and info['pre_close'] < info['mean']:\n",
    "        sign = \"cross_up\"\n",
    "#     elif info['close'] < info['mean'] and info['pre_close'] > info['mean']:\n",
    "#         sign = \"cross_dwn\"\n",
    "#         sign = \"None\"\n",
    "    elif info['close'] >= info['stop_profit']:\n",
    "        sign = \"stop_profit\"\n",
    "    elif info['close'] <= info['stop_loss']:\n",
    "        sign = \"stop_loss\"\n",
    "#     elif info['have_day'] >= expiry_period:\n",
    "#         sign = \"expiry_date\"\n",
    "    else:\n",
    "        sign = \"None\"\n",
    "\n",
    "    return sign, info['close']"
   ]
  },
  {
   "cell_type": "code",
   "execution_count": null,
   "metadata": {},
   "outputs": [],
   "source": [
    "# Return sign, price\n",
    "def trade(info, strategy = 1):\n",
    "    if strategy == 1:\n",
    "        return simple_strategy(info)"
   ]
  },
  {
   "cell_type": "markdown",
   "metadata": {},
   "source": [
    "## Transaction"
   ]
  },
  {
   "cell_type": "code",
   "execution_count": 3,
   "metadata": {},
   "outputs": [],
   "source": [
    "# return company dataframe, transaction record, investor final\n",
    "def transaction(company, strategy=1, drop_rate=0.03, raise_rate=0.02, print_earn=False):\n",
    "    # Investor capital\n",
    "    investor = init_account()\n",
    "    SIG = np.zeros(len(company))\n",
    "    rate = init_rate()\n",
    "\n",
    "    record = []\n",
    "    \n",
    "    # Initial trading info\n",
    "    info = init_transc()\n",
    "    \n",
    "    for day in range(0, len(company)):\n",
    "        \n",
    "        \n",
    "        info = update_info(info, company, day, investor)\n",
    "        \n",
    "        BUY = [\"cross_up\"]\n",
    "        SELL = [\"cross_dwn\", \"stop_loss\", \"stop_profit\", \"expiry_date\"]\n",
    "        \n",
    "        sign, price = trade(info)\n",
    "\n",
    "        if sign in BUY and investor['shares'] == 0:\n",
    "            info = update_stop_point(info, raise_rate, drop_rate)\n",
    "            investor, actuall_price = buy(investor, price, rate)\n",
    "            record.append([company.index[day], 'BUY', sign, investor['capital'],\n",
    "                           investor['shares'], price, actuall_price, day])\n",
    "            SIG[day] = 1\n",
    "        elif sign in SELL and investor['shares'] != 0:\n",
    "            investor, actuall_price = sell(investor, price, rate)\n",
    "            record.append([company.index[day], 'SELL', sign, investor['capital'],\n",
    "                           investor['shares'], price, actuall_price, day])\n",
    "            SIG[day] = 2\n",
    "        \n",
    "        info['pre_close'] = info['close']\n",
    "        \n",
    "    # 清空\n",
    "    if investor['shares'] != 0:\n",
    "        investor, actuall_price = sell(investor, price, rate)\n",
    "        record.append([company.index[day], 'SELL', 'clean', investor['capital'],\n",
    "                           investor['shares'], info['close'], actuall_price, day])\n",
    "        SIG[day] = 2\n",
    "    total_earn = investor['earn'] - investor['cost']\n",
    "    if print_earn:\n",
    "        print(f\"Total Earn: {total_earn}\")\n",
    "    record = pd.DataFrame(record, columns=['日期', '動作', '指標', '總資金', '持有股', '交易每股金額', '實際買賣金額', 'Index'])\n",
    "    return record, investor, SIG, total_earn"
   ]
  },
  {
   "cell_type": "markdown",
   "metadata": {},
   "source": [
    "## Get Transaction DF"
   ]
  },
  {
   "cell_type": "code",
   "execution_count": null,
   "metadata": {},
   "outputs": [],
   "source": [
    "# 拿到交易分析 dataFrame \n",
    "# ticker: 股票代碼\n",
    "def get_transaction_DF(ticker , basic_ratio=None):\n",
    "\n",
    "    # 拿到股票資訊\n",
    "    company = get_one_stock(ticker)\n",
    "\n",
    "    # 停利停損\n",
    "    if basic_ratio is None:\n",
    "        basic_ratio = np.arange(2,5,1) # 停利為停損的幾倍\n",
    "    drop_ratios = np.arange(0.01, 0.1, 0.01) # 停損\n",
    "\n",
    "    # 紀錄\n",
    "    records = []\n",
    "\n",
    "    # r 為倍率: 停損的r倍\n",
    "    for r in basic_ratio:\n",
    "        for d in drop_ratios:\n",
    "            _raise_rate = d*r\n",
    "            # recored: 交易紀錄 investor:交易者資訊 total_earn: 賺多少 \n",
    "            record, investor, _, total_earn = transaction(company, drop_rate=d, raise_rate=_raise_rate) \n",
    "            # WL_rate: 賺賠比 pw: 勝率   \n",
    "            WL_rate, pw, _ = profit_loss_analysis(record)\n",
    "            hpr = round(total_earn / investor['init_capital'] * 100 ,2) # 報酬率:%\n",
    "            # 紀錄\n",
    "            records.append( [_raise_rate , d , investor['buy_times'] , investor['sell_times'] , WL_rate , pw , hpr ]   )\n",
    "\n",
    "    df = pd.DataFrame(records ,columns=['停利點','停損點','進場次數','出場次數','W/L','Pw','投資報酬率(%)'])\n",
    "    return df"
   ]
  }
 ],
 "metadata": {
  "kernelspec": {
   "display_name": "QT",
   "language": "python",
   "name": "qt"
  },
  "language_info": {
   "codemirror_mode": {
    "name": "ipython",
    "version": 3
   },
   "file_extension": ".py",
   "mimetype": "text/x-python",
   "name": "python",
   "nbconvert_exporter": "python",
   "pygments_lexer": "ipython3",
   "version": "3.8.6"
  }
 },
 "nbformat": 4,
 "nbformat_minor": 4
}
