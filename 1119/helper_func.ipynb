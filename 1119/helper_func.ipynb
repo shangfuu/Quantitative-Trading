{
 "cells": [
  {
   "cell_type": "markdown",
   "metadata": {},
   "source": [
    "# Helper Functions\n",
    "1. Get Stock from Yahoo finance api\n",
    "2. Initial Rates, Account"
   ]
  },
  {
   "cell_type": "code",
   "execution_count": 1,
   "metadata": {},
   "outputs": [],
   "source": [
    "from yahoo_fin.stock_info import get_data"
   ]
  },
  {
   "cell_type": "markdown",
   "metadata": {},
   "source": [
    "## Get Stock"
   ]
  },
  {
   "cell_type": "code",
   "execution_count": null,
   "metadata": {},
   "outputs": [],
   "source": [
    "# interval format: \"1d\", \"1wk\", \"1mo\"\n",
    "# date format: mm/dd/yyyy\n",
    "def get_stocks(ticker_list, start_date='10/01/2017', end_date='10/01/2020', days=20, N_std=2, interval='1d'):\n",
    "    historical_datas = {}\n",
    "    # Get ticker data\n",
    "    for ticker in ticker_list:\n",
    "        historical_datas[ticker] = get_data(ticker, start_date, end_date, interval=interval)\n",
    "\n",
    "        # Calculate mean, std, upper bands, lower bands\n",
    "        ticker_data = historical_datas[ticker]\n",
    "        ticker_data['middle'] = ticker_data['close'].rolling(window=days).mean()\n",
    "        ticker_data['std'] = ticker_data['close'].rolling(window=days).std()\n",
    "        ticker_data['lower'] = ticker_data['middle'] - N_std * ticker_data['std']\n",
    "        ticker_data['upper'] = ticker_data['middle'] + N_std * ticker_data['std']\n",
    "        ticker_data['B'] = (ticker_data['close'] - ticker_data['lower']) / (ticker_data['upper'] - ticker_data['lower'])\n",
    "        ticker_data['returns'] = ticker_data['adjclose'].pct_change()\n",
    "        \n",
    "    return historical_datas"
   ]
  },
  {
   "cell_type": "code",
   "execution_count": null,
   "metadata": {},
   "outputs": [],
   "source": [
    "# 回傳單張股票\n",
    "# ticker : 股票代碼\n",
    "def get_one_stock(ticker, start_date='10/01/2017', end_date='10/01/2020', days=20, N_std=2, interval='1d'):\n",
    "    ticker_data = get_data(ticker, start_date, end_date, interval=interval)\n",
    "    \n",
    "    # Calculate mean, std, upper bands, lower bands\n",
    "#     ticker_data = ticker_data[ticker]\n",
    "    \n",
    "    ticker_data['middle'] = ticker_data['close'].rolling(window=days).mean()\n",
    "    ticker_data['std'] = ticker_data['close'].rolling(window=days).std()\n",
    "    \n",
    "    ticker_data['lower'] = ticker_data['middle'] - N_std * ticker_data['std']\n",
    "    ticker_data['upper'] = ticker_data['middle'] + N_std * ticker_data['std']\n",
    "    ticker_data['B'] = (ticker_data['close'] - ticker_data['lower']) / (ticker_data['upper'] - ticker_data['lower'])\n",
    "    ticker_data['returns'] = ticker_data['adjclose'].pct_change() \n",
    "                 \n",
    "    return ticker_data"
   ]
  },
  {
   "cell_type": "markdown",
   "metadata": {},
   "source": [
    "## Initial Rates, Accounts"
   ]
  },
  {
   "cell_type": "code",
   "execution_count": null,
   "metadata": {},
   "outputs": [],
   "source": [
    "def init_rate(fee=0.001425, tax=0.003, slippage=1):\n",
    "    rate = {\n",
    "        'handling_fee': fee,\n",
    "        'trans_tax': tax,\n",
    "        'slippage': slippage\n",
    "    }\n",
    "    return rate"
   ]
  },
  {
   "cell_type": "code",
   "execution_count": null,
   "metadata": {},
   "outputs": [],
   "source": [
    "def init_account(shares=0.0, cost=0.0, buy_times=0.0, earn=0.0,sell_times=0.0, capital=300000,per_trans=1000):\n",
    "    account = {\n",
    "        'shares': shares,     # 有幾股\n",
    "        'cost': cost,\n",
    "        'buy_times': buy_times,\n",
    "        'earn': earn,\n",
    "        'sell_times': sell_times,\n",
    "        'capital': capital,  # 資金\n",
    "        'per_trans': per_trans,   # 一次買一張\n",
    "        'init_capital': capital,  # 紀錄初始資金\n",
    "    }\n",
    "    return account"
   ]
  },
  {
   "cell_type": "markdown",
   "metadata": {},
   "source": [
    "## Check if last day of month"
   ]
  },
  {
   "cell_type": "code",
   "execution_count": null,
   "metadata": {},
   "outputs": [],
   "source": [
    "def check_if_last_day_of_month(date):\n",
    "    import datetime\n",
    "    import calendar\n",
    "    #  calendar.monthrange return a tuple (weekday of first day of the \n",
    "    #  month, number  \n",
    "    #  of days in month)\n",
    "    last_day_of_month = calendar.monthrange(date.year, date.month)[1]\n",
    "    # here i check if date is last day of month\n",
    "    if date == datetime.date(date.year, date.month, last_day_of_month):\n",
    "        return True\n",
    "    return False"
   ]
  }
 ],
 "metadata": {
  "kernelspec": {
   "display_name": "Python 3",
   "language": "python",
   "name": "python3"
  },
  "language_info": {
   "codemirror_mode": {
    "name": "ipython",
    "version": 3
   },
   "file_extension": ".py",
   "mimetype": "text/x-python",
   "name": "python",
   "nbconvert_exporter": "python",
   "pygments_lexer": "ipython3",
   "version": "3.7.3"
  }
 },
 "nbformat": 4,
 "nbformat_minor": 4
}
