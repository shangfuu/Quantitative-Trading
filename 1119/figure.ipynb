{
 "cells": [
  {
   "cell_type": "markdown",
   "metadata": {},
   "source": [
    "# Figure module\n",
    "繪圖相關"
   ]
  },
  {
   "cell_type": "code",
   "execution_count": 10,
   "metadata": {},
   "outputs": [],
   "source": [
    "import matplotlib.pyplot as plt\n",
    "import plotly.graph_objs as pltgo\n",
    "import numpy as np\n",
    "import pandas as pd\n",
    "\n",
    "import import_ipynb\n",
    "from transaction import get_transaction_DF"
   ]
  },
  {
   "cell_type": "markdown",
   "metadata": {},
   "source": [
    "## Bollinger Bands"
   ]
  },
  {
   "cell_type": "code",
   "execution_count": 2,
   "metadata": {},
   "outputs": [],
   "source": [
    "# DF: Company's historical datas\n",
    "def show_bollinger(DF, ticker, start_date, end_date, SIG=None):\n",
    "    plt.figure(figsize=(20,10))\n",
    "    plt.plot(DF['upper'], color='#CC99FF')\n",
    "    plt.plot(DF['middle'], color=\"blue\")\n",
    "    plt.plot(DF['lower'], color='#CC99FF')\n",
    "    plt.plot(DF['close'], color=\"black\")\n",
    "    if SIG is not None:\n",
    "        plt.plot(DF['close'][SIG == 1], lw = 0, marker='^', markersize=10, c='g', alpha=0.7)\n",
    "        plt.plot(DF['close'][SIG == 2], lw = 0, marker='v', markersize=10, c='r', alpha=0.7)\n",
    "    plt.xlabel('date')\n",
    "    plt.ylabel('price')\n",
    "    plt.legend(['upper', 'middle', 'lower', 'close'])\n",
    "    plt.grid(True)\n",
    "    plt.title(f\"{ticker} Bollinger band {start_date} ~ {end_date}\")\n",
    "    plt.show()"
   ]
  },
  {
   "cell_type": "code",
   "execution_count": 3,
   "metadata": {},
   "outputs": [],
   "source": [
    "# Advance way to show bollinger bands\n",
    "def bollinger_bands(DF, ticker):\n",
    "    fig = pltgo.Figure()\n",
    "    \n",
    "    # Setup traces\n",
    "    fig.add_trace(pltgo.Scatter(x=DF.index, y=DF['upper'], line=dict(color='yellow', width=1.7), name = 'Upper Band'))\n",
    "    fig.add_trace(pltgo.Scatter(x=DF.index, y=DF['middle'], line=dict(color='blue', width=.7), name = 'Middle Band'))\n",
    "    fig.add_trace(pltgo.Scatter(x=DF.index, y=DF['lower'], line=dict(color='yellow', width=1.7), name = 'Lower Band'))\n",
    "    fig.add_trace(pltgo.Scatter(x=DF.index, y=DF['close'], line=dict(color='black', width=.7), name = 'Close price'))\n",
    "    \n",
    "    # candle stick\n",
    "    fig.add_trace(pltgo.Candlestick(x=DF.index, open=DF['open'], high=DF['high'],\n",
    "                                    low=DF['low'], close=DF['close'], name=\"market data\"))\n",
    "    fig.update_layout(title=ticker)\n",
    "    fig.show()"
   ]
  },
  {
   "cell_type": "markdown",
   "metadata": {},
   "source": [
    "## Return"
   ]
  },
  {
   "cell_type": "code",
   "execution_count": 5,
   "metadata": {},
   "outputs": [],
   "source": [
    "# 顯示回測\n",
    "def show_returns(df):\n",
    "    plt.hist(df['returns'].dropna(),bins=75,density=False)\n",
    "    plt.show"
   ]
  },
  {
   "cell_type": "markdown",
   "metadata": {},
   "source": [
    "## Funding Changes"
   ]
  },
  {
   "cell_type": "code",
   "execution_count": 4,
   "metadata": {},
   "outputs": [],
   "source": [
    "# draw funding changes\n",
    "def funding_changes(rec):\n",
    "    rec= rec[rec['動作']=='SELL']\n",
    "    plt.figure(figsize=(25, 10))\n",
    "    plt.plot(rec['日期'], rec['總資金'],color=\"green\")\n",
    "    plt.title(\"IGS Funding changes (principal: 300000)\")\n",
    "    plt.show()"
   ]
  },
  {
   "cell_type": "markdown",
   "metadata": {},
   "source": [
    "## Profit Loss"
   ]
  },
  {
   "cell_type": "code",
   "execution_count": 11,
   "metadata": {},
   "outputs": [],
   "source": [
    "# 畫2D 勝率& 損益比\n",
    "# tickers: 股票代碼list\n",
    "# colors: 指定顏色\n",
    "# basic_ratio: 看你想分析多少倍的停損停利\n",
    "def draw_2D_WL(tickers, basic_ratio=None, colors = ['b', 'c', 'y', 'm', 'r'], max_pw = 0.8 ):\n",
    "\n",
    "    # 基本圖表設置\n",
    "    plt.figure(figsize=(10,10))\n",
    "    plt.xlabel('Pw')\n",
    "    plt.ylabel('W/L')\n",
    "\n",
    "    # 畫出期望線\n",
    "    exp_pw = np.linspace(0.1, max_pw)  # 假設勝率分布在0.1~max_pw\n",
    "    exp_WL = (1-exp_pw) / exp_pw  # 算出公平WL\n",
    "    plt.plot(exp_pw ,exp_WL , '-', c='g')\n",
    "    \n",
    "    # 畫出股票點\n",
    "    for i,ticker in enumerate(tickers):\n",
    "        df = get_transaction_DF(ticker, basic_ratio=basic_ratio)\n",
    "        plt.plot( df['Pw'] , df['W/L'] , 'o' ,c=colors[i] , label=ticker )\n",
    "    plt.legend()\n",
    "    plt.show()"
   ]
  },
  {
   "cell_type": "code",
   "execution_count": null,
   "metadata": {},
   "outputs": [],
   "source": [
    "# 畫2D 勝率& 損益比\n",
    "# tickers: 股票代碼list\n",
    "# basic_ratio: 看你想分析多少倍的停損停利\n",
    "def draw_bubble_WL(tickers , basic_ratio=None, colors = ['b', 'c', 'y', 'm', 'r'] , max_pw = 0.8):\n",
    "\n",
    "    # 基本圖表設置\n",
    "    plt.figure(figsize=(15,15))\n",
    "    plt.xlabel('Pw')\n",
    "    plt.ylabel('W/L')# 畫出期望線\n",
    "    exp_pw = np.linspace(0.1, max_pw)  # 假設勝率分布在0.1~max_pw\n",
    "    exp_WL = (1-exp_pw) / exp_pw  # 算出公平 WL\n",
    "    plt.plot(exp_pw ,exp_WL , '-', c='g')# 畫出股票點\n",
    "    for i,ticker in enumerate(tickers):\n",
    "        df = get_transaction_DF(ticker,basic_ratio=basic_ratio)\n",
    "        norm = np.linalg.norm(df['投資報酬率(%)'])\n",
    "        plt.scatter( df['Pw'] , df['W/L'], s= (0.2+(df['投資報酬率(%)']/norm))*3000  ,c=colors[i] , label=ticker , alpha=0.6 )\n",
    "        plt.legend()\n",
    "    plt.show()"
   ]
  }
 ],
 "metadata": {
  "kernelspec": {
   "display_name": "QT",
   "language": "python",
   "name": "qt"
  },
  "language_info": {
   "codemirror_mode": {
    "name": "ipython",
    "version": 3
   },
   "file_extension": ".py",
   "mimetype": "text/x-python",
   "name": "python",
   "nbconvert_exporter": "python",
   "pygments_lexer": "ipython3",
   "version": "3.8.6"
  }
 },
 "nbformat": 4,
 "nbformat_minor": 4
}
