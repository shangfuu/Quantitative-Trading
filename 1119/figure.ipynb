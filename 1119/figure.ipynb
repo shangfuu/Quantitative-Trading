{
 "cells": [
  {
   "cell_type": "markdown",
   "metadata": {},
   "source": [
    "# Figure module\n",
    "繪圖相關"
   ]
  },
  {
   "cell_type": "code",
   "execution_count": 1,
   "metadata": {},
   "outputs": [
    {
     "name": "stdout",
     "output_type": "stream",
     "text": [
      "importing Jupyter notebook from transaction.ipynb\n",
      "importing Jupyter notebook from helper_func.ipynb\n",
      "Warning - Certain functionality \n",
      "             requires requests_html, which is not installed.\n",
      "             \n",
      "             Install using: \n",
      "             pip install requests_html\n",
      "             \n",
      "             After installation, you may have to restart your Python session.\n",
      "importing Jupyter notebook from profit_loss.ipynb\n"
     ]
    }
   ],
   "source": [
    "import matplotlib.pyplot as plt\n",
    "import plotly.graph_objs as pltgo\n",
    "import numpy as np\n",
    "import pandas as pd\n",
    "\n",
    "import import_ipynb\n",
    "from transaction import get_transaction_DF"
   ]
  },
  {
   "cell_type": "markdown",
   "metadata": {},
   "source": [
    "## Bollinger Bands"
   ]
  },
  {
   "cell_type": "code",
   "execution_count": 2,
   "metadata": {},
   "outputs": [],
   "source": [
    "# DF: Company's historical datas\n",
    "def show_bollinger(DF, ticker, start_date, end_date, SIG=None):\n",
    "    plt.figure(figsize=(20,10))\n",
    "    plt.plot(DF['upper'], color='#CC99FF')\n",
    "    plt.plot(DF['middle'], color=\"blue\")\n",
    "    plt.plot(DF['lower'], color='#CC99FF')\n",
    "    plt.plot(DF['close'], color=\"black\")\n",
    "    if SIG is not None:\n",
    "        plt.plot(DF['close'][SIG == 1], lw = 0, marker='^', markersize=10, c='g', alpha=0.7)\n",
    "        plt.plot(DF['close'][SIG == 2], lw = 0, marker='v', markersize=10, c='r', alpha=0.7)\n",
    "    plt.xlabel('date')\n",
    "    plt.ylabel('price')\n",
    "    plt.legend(['upper', 'middle', 'lower', 'close'])\n",
    "    plt.grid(True)\n",
    "    plt.title(f\"{ticker} Bollinger band {start_date} ~ {end_date}\")\n",
    "    plt.show()"
   ]
  },
  {
   "cell_type": "code",
   "execution_count": 3,
   "metadata": {},
   "outputs": [],
   "source": [
    "# Advance way to show bollinger bands\n",
    "def bollinger_bands(DF, ticker):\n",
    "    fig = pltgo.Figure()\n",
    "    \n",
    "    # Setup traces\n",
    "    fig.add_trace(pltgo.Scatter(x=DF.index, y=DF['upper'], line=dict(color='yellow', width=1.7), name = 'Upper Band'))\n",
    "    fig.add_trace(pltgo.Scatter(x=DF.index, y=DF['middle'], line=dict(color='blue', width=.7), name = 'Middle Band'))\n",
    "    fig.add_trace(pltgo.Scatter(x=DF.index, y=DF['lower'], line=dict(color='yellow', width=1.7), name = 'Lower Band'))\n",
    "    fig.add_trace(pltgo.Scatter(x=DF.index, y=DF['close'], line=dict(color='black', width=.7), name = 'Close price'))\n",
    "    \n",
    "    # candle stick\n",
    "    fig.add_trace(pltgo.Candlestick(x=DF.index, open=DF['open'], high=DF['high'],\n",
    "                                    low=DF['low'], close=DF['close'], name=\"market data\"))\n",
    "    fig.update_layout(title=ticker)\n",
    "    fig.show()"
   ]
  },
  {
   "cell_type": "markdown",
   "metadata": {},
   "source": [
    "## Return"
   ]
  },
  {
   "cell_type": "code",
   "execution_count": 4,
   "metadata": {},
   "outputs": [],
   "source": [
    "# 顯示回測\n",
    "def show_returns(df):\n",
    "    plt.hist(df['returns'].dropna(),bins=75,density=False)\n",
    "    plt.show"
   ]
  },
  {
   "cell_type": "markdown",
   "metadata": {},
   "source": [
    "## Funding Changes"
   ]
  },
  {
   "cell_type": "code",
   "execution_count": 5,
   "metadata": {},
   "outputs": [],
   "source": [
    "# draw funding changes\n",
    "def funding_changes(rec):\n",
    "    rec= rec[rec['動作']=='SELL']\n",
    "    plt.figure(figsize=(25, 10))\n",
    "    plt.plot(rec['日期'], rec['總資金'],color=\"green\")\n",
    "    plt.title(\"IGS Funding changes (principal: 300000)\")\n",
    "    plt.show()"
   ]
  },
  {
   "cell_type": "markdown",
   "metadata": {},
   "source": [
    "## Profit Loss"
   ]
  },
  {
   "cell_type": "code",
   "execution_count": 6,
   "metadata": {},
   "outputs": [],
   "source": [
    "# 畫2D 勝率& 損益比\n",
    "# tickers: 股票代碼list\n",
    "# colors: 指定顏色\n",
    "# basic_ratio: 看你想分析多少倍的停損停利\n",
    "def draw_2D_WL(tickers, basic_ratio=None, colors = ['b', 'c', 'y', 'm', 'r'], max_pw = 0.8 ):\n",
    "\n",
    "    # 基本圖表設置\n",
    "    plt.figure(figsize=(10,10))\n",
    "    plt.xlabel('Pw')\n",
    "    plt.ylabel('W/L')\n",
    "\n",
    "    # 畫出期望線\n",
    "    exp_pw = np.linspace(0.1, max_pw)  # 假設勝率分布在0.1~max_pw\n",
    "    exp_WL = (1-exp_pw) / exp_pw  # 算出公平WL\n",
    "    plt.plot(exp_pw ,exp_WL , '-', c='g')\n",
    "    \n",
    "    # 畫出股票點\n",
    "    for i,ticker in enumerate(tickers):\n",
    "        df = get_transaction_DF(ticker, basic_ratio=basic_ratio)\n",
    "        plt.plot( df['Pw'] , df['W/L'] , 'o' ,c=colors[i] , label=ticker )\n",
    "    plt.legend()\n",
    "    plt.show()"
   ]
  },
  {
   "cell_type": "code",
   "execution_count": 7,
   "metadata": {},
   "outputs": [],
   "source": [
    "# 畫2D 勝率& 損益比\n",
    "# tickers: 股票代碼list\n",
    "# basic_ratio: 看你想分析多少倍的停損停利\n",
    "def draw_bubble_WL(tickers , basic_ratio=None, colors = ['b', 'c', 'y', 'm', 'r'] , max_pw = 0.8):\n",
    "\n",
    "    # 基本圖表設置\n",
    "    plt.figure(figsize=(15,15))\n",
    "    plt.xlabel('Pw')\n",
    "    plt.ylabel('W/L')# 畫出期望線\n",
    "    exp_pw = np.linspace(0.1, max_pw)  # 假設勝率分布在0.1~max_pw\n",
    "    exp_WL = (1-exp_pw) / exp_pw  # 算出公平 WL\n",
    "    plt.plot(exp_pw ,exp_WL , '-', c='g')# 畫出股票點\n",
    "    for i,ticker in enumerate(tickers):\n",
    "        df = get_transaction_DF(ticker,basic_ratio=basic_ratio)\n",
    "        norm = np.linalg.norm(df['投資報酬率(%)'])\n",
    "        plt.scatter( df['Pw'] , df['W/L'], s= (0.2+(df['投資報酬率(%)']/norm))*3000  ,c=colors[i] , label=ticker , alpha=0.6 )\n",
    "        plt.legend()\n",
    "    plt.show()"
   ]
  },
  {
   "cell_type": "code",
   "execution_count": 8,
   "metadata": {},
   "outputs": [],
   "source": [
    "# 畫3D直方圖\n",
    "# ticker: 股票代碼\n",
    "# basic_ratio: 看你想分析多少倍的停損停利\n",
    "# dx_rate: 正方體 x軸寬度，視結果調整\n",
    "# dy_rate: 正方體 y軸寬度，視結果調整\n",
    "def draw_PL_BEP_Figure(ticker, basic_ratio=None, dx_rate = 0.01, dy_rate = 0.05):\n",
    "\n",
    "    df = get_transaction_DF(ticker, basic_ratio=basic_ratio)\n",
    "    \n",
    "    figure = plt.figure(figsize=(12, 8))\n",
    "    axes = figure.add_subplot(111,projection = \"3d\")\n",
    "    xpos = df['Pw']\n",
    "    ypos = df['W/L']\n",
    "    zpos = np.zeros(len(df['投資報酬率(%)']))\n",
    "    dx = np.ones(len(df['Pw']))\n",
    "    for i in range(len(dx)):\n",
    "        dx[i] = dx_rate\n",
    "    dy = np.ones(len(df['W/L']))\n",
    "    for i in range(len(dy)):\n",
    "        dy[i] = dy_rate\n",
    "    dz = df['投資報酬率(%)']\n",
    "    axes.bar3d(xpos, ypos, zpos, dx, dy, dz, color='red')\n",
    "    axes.set_xlabel('Pw')\n",
    "    axes.set_ylabel('W/L')\n",
    "    axes.set_zlabel('hpr%')\n",
    "\n",
    "    plt.show()\n",
    "    return df"
   ]
  }
 ],
 "metadata": {
  "kernelspec": {
   "display_name": "Python 3",
   "language": "python",
   "name": "python3"
  },
  "language_info": {
   "codemirror_mode": {
    "name": "ipython",
    "version": 3
   },
   "file_extension": ".py",
   "mimetype": "text/x-python",
   "name": "python",
   "nbconvert_exporter": "python",
   "pygments_lexer": "ipython3",
   "version": "3.7.3"
  }
 },
 "nbformat": 4,
 "nbformat_minor": 4
}
